{
 "cells": [
  {
   "attachments": {},
   "cell_type": "markdown",
   "metadata": {},
   "source": [
    "(Coding source)[https://www.youtube.com/watch?v=PuZY9q-aKLw]\n"
   ]
  },
  {
   "cell_type": "code",
   "execution_count": 1,
   "metadata": {},
   "outputs": [],
   "source": [
    "# Importing\n",
    "import numpy as np\n",
    "import matplotlib.pyplot as plt\n",
    "import pandas as pd\n",
    "import pandas_datareader as pdr\n",
    "import yfinance as yfin\n",
    "yfin.pdr_override()\n",
    "\n",
    "import datetime as dt\n",
    "\n",
    "from sklearn.preprocessing import MinMaxScaler\n",
    "from tensorflow.keras.models import Sequential\n",
    "from tensorflow.keras.layers import Dense, Dropout, LSTM"
   ]
  },
  {
   "cell_type": "code",
   "execution_count": 4,
   "metadata": {},
   "outputs": [],
   "source": [
    "# Create your connection.\n",
    "import sqlite3\n",
    "cnx = sqlite3.connect('db.sqlite')\n",
    "df_covid = pd.read_sql('select * from casos_covid_raw', cnx)\n"
   ]
  },
  {
   "cell_type": "code",
   "execution_count": 8,
   "metadata": {},
   "outputs": [],
   "source": [
    "df_casos = pd.read_sql('select * from casos_covid_semanal', cnx)"
   ]
  },
  {
   "cell_type": "code",
   "execution_count": 9,
   "metadata": {},
   "outputs": [
    {
     "data": {
      "text/html": [
       "<div>\n",
       "<style scoped>\n",
       "    .dataframe tbody tr th:only-of-type {\n",
       "        vertical-align: middle;\n",
       "    }\n",
       "\n",
       "    .dataframe tbody tr th {\n",
       "        vertical-align: top;\n",
       "    }\n",
       "\n",
       "    .dataframe thead th {\n",
       "        text-align: right;\n",
       "    }\n",
       "</style>\n",
       "<table border=\"1\" class=\"dataframe\">\n",
       "  <thead>\n",
       "    <tr style=\"text-align: right;\">\n",
       "      <th></th>\n",
       "      <th>data</th>\n",
       "      <th>casosNovos</th>\n",
       "    </tr>\n",
       "  </thead>\n",
       "  <tbody>\n",
       "    <tr>\n",
       "      <th>0</th>\n",
       "      <td>2020-03-01 00:00:00</td>\n",
       "      <td>2</td>\n",
       "    </tr>\n",
       "    <tr>\n",
       "      <th>1</th>\n",
       "      <td>2020-03-08 00:00:00</td>\n",
       "      <td>23</td>\n",
       "    </tr>\n",
       "    <tr>\n",
       "      <th>2</th>\n",
       "      <td>2020-03-15 00:00:00</td>\n",
       "      <td>175</td>\n",
       "    </tr>\n",
       "    <tr>\n",
       "      <th>3</th>\n",
       "      <td>2020-03-22 00:00:00</td>\n",
       "      <td>1346</td>\n",
       "    </tr>\n",
       "    <tr>\n",
       "      <th>4</th>\n",
       "      <td>2020-03-29 00:00:00</td>\n",
       "      <td>2710</td>\n",
       "    </tr>\n",
       "    <tr>\n",
       "      <th>...</th>\n",
       "      <td>...</td>\n",
       "      <td>...</td>\n",
       "    </tr>\n",
       "    <tr>\n",
       "      <th>161</th>\n",
       "      <td>2023-04-02 00:00:00</td>\n",
       "      <td>60591</td>\n",
       "    </tr>\n",
       "    <tr>\n",
       "      <th>162</th>\n",
       "      <td>2023-04-09 00:00:00</td>\n",
       "      <td>38838</td>\n",
       "    </tr>\n",
       "    <tr>\n",
       "      <th>163</th>\n",
       "      <td>2023-04-16 00:00:00</td>\n",
       "      <td>49140</td>\n",
       "    </tr>\n",
       "    <tr>\n",
       "      <th>164</th>\n",
       "      <td>2023-04-23 00:00:00</td>\n",
       "      <td>42186</td>\n",
       "    </tr>\n",
       "    <tr>\n",
       "      <th>165</th>\n",
       "      <td>2023-04-30 00:00:00</td>\n",
       "      <td>0</td>\n",
       "    </tr>\n",
       "  </tbody>\n",
       "</table>\n",
       "<p>166 rows × 2 columns</p>\n",
       "</div>"
      ],
      "text/plain": [
       "                    data  casosNovos\n",
       "0    2020-03-01 00:00:00           2\n",
       "1    2020-03-08 00:00:00          23\n",
       "2    2020-03-15 00:00:00         175\n",
       "3    2020-03-22 00:00:00        1346\n",
       "4    2020-03-29 00:00:00        2710\n",
       "..                   ...         ...\n",
       "161  2023-04-02 00:00:00       60591\n",
       "162  2023-04-09 00:00:00       38838\n",
       "163  2023-04-16 00:00:00       49140\n",
       "164  2023-04-23 00:00:00       42186\n",
       "165  2023-04-30 00:00:00           0\n",
       "\n",
       "[166 rows x 2 columns]"
      ]
     },
     "execution_count": 9,
     "metadata": {},
     "output_type": "execute_result"
    }
   ],
   "source": [
    "df_casos"
   ]
  },
  {
   "cell_type": "code",
   "execution_count": 5,
   "metadata": {},
   "outputs": [
    {
     "name": "stdout",
     "output_type": "stream",
     "text": [
      "[*********************100%***********************]  1 of 1 completed\n"
     ]
    }
   ],
   "source": [
    "# Load Data\n",
    "company = 'Meta'\n",
    "\n",
    "start = dt.datetime(2012,1,1)\n",
    "end = dt.datetime(2020,1,1)\n",
    "\n",
    "data = pdr.data.get_data_yahoo(company, start, end)\n"
   ]
  },
  {
   "cell_type": "code",
   "execution_count": 32,
   "metadata": {},
   "outputs": [
    {
     "data": {
      "text/html": [
       "<div>\n",
       "<style scoped>\n",
       "    .dataframe tbody tr th:only-of-type {\n",
       "        vertical-align: middle;\n",
       "    }\n",
       "\n",
       "    .dataframe tbody tr th {\n",
       "        vertical-align: top;\n",
       "    }\n",
       "\n",
       "    .dataframe thead th {\n",
       "        text-align: right;\n",
       "    }\n",
       "</style>\n",
       "<table border=\"1\" class=\"dataframe\">\n",
       "  <thead>\n",
       "    <tr style=\"text-align: right;\">\n",
       "      <th></th>\n",
       "      <th>data</th>\n",
       "      <th>casosNovos</th>\n",
       "    </tr>\n",
       "  </thead>\n",
       "  <tbody>\n",
       "    <tr>\n",
       "      <th>0</th>\n",
       "      <td>2020-03-01 00:00:00</td>\n",
       "      <td>2</td>\n",
       "    </tr>\n",
       "    <tr>\n",
       "      <th>1</th>\n",
       "      <td>2020-03-08 00:00:00</td>\n",
       "      <td>23</td>\n",
       "    </tr>\n",
       "    <tr>\n",
       "      <th>2</th>\n",
       "      <td>2020-03-15 00:00:00</td>\n",
       "      <td>175</td>\n",
       "    </tr>\n",
       "    <tr>\n",
       "      <th>3</th>\n",
       "      <td>2020-03-22 00:00:00</td>\n",
       "      <td>1346</td>\n",
       "    </tr>\n",
       "    <tr>\n",
       "      <th>4</th>\n",
       "      <td>2020-03-29 00:00:00</td>\n",
       "      <td>2710</td>\n",
       "    </tr>\n",
       "    <tr>\n",
       "      <th>...</th>\n",
       "      <td>...</td>\n",
       "      <td>...</td>\n",
       "    </tr>\n",
       "    <tr>\n",
       "      <th>128</th>\n",
       "      <td>2022-08-14 00:00:00</td>\n",
       "      <td>151915</td>\n",
       "    </tr>\n",
       "    <tr>\n",
       "      <th>129</th>\n",
       "      <td>2022-08-21 00:00:00</td>\n",
       "      <td>114578</td>\n",
       "    </tr>\n",
       "    <tr>\n",
       "      <th>130</th>\n",
       "      <td>2022-08-28 00:00:00</td>\n",
       "      <td>99883</td>\n",
       "    </tr>\n",
       "    <tr>\n",
       "      <th>131</th>\n",
       "      <td>2022-09-04 00:00:00</td>\n",
       "      <td>86029</td>\n",
       "    </tr>\n",
       "    <tr>\n",
       "      <th>132</th>\n",
       "      <td>2022-09-11 00:00:00</td>\n",
       "      <td>57849</td>\n",
       "    </tr>\n",
       "  </tbody>\n",
       "</table>\n",
       "<p>133 rows × 2 columns</p>\n",
       "</div>"
      ],
      "text/plain": [
       "                    data  casosNovos\n",
       "0    2020-03-01 00:00:00           2\n",
       "1    2020-03-08 00:00:00          23\n",
       "2    2020-03-15 00:00:00         175\n",
       "3    2020-03-22 00:00:00        1346\n",
       "4    2020-03-29 00:00:00        2710\n",
       "..                   ...         ...\n",
       "128  2022-08-14 00:00:00      151915\n",
       "129  2022-08-21 00:00:00      114578\n",
       "130  2022-08-28 00:00:00       99883\n",
       "131  2022-09-04 00:00:00       86029\n",
       "132  2022-09-11 00:00:00       57849\n",
       "\n",
       "[133 rows x 2 columns]"
      ]
     },
     "execution_count": 32,
     "metadata": {},
     "output_type": "execute_result"
    }
   ],
   "source": [
    "import math\n",
    "\n",
    "TEST_PERCENTAGE = 80\n",
    "test_limit = math.ceil((TEST_PERCENTAGE/100)*len(df_casos))\n",
    "data = df_casos[:test_limit]\n",
    "data\n"
   ]
  },
  {
   "cell_type": "code",
   "execution_count": 33,
   "metadata": {},
   "outputs": [],
   "source": [
    "# Prepare Data\n",
    "scaler = MinMaxScaler(feature_range=(0,1))\n",
    "scaled_data = scaler.fit_transform(data['casosNovos'].values.reshape(-1, 1))\n",
    "prediction_days = 60\n",
    "\n",
    "x_train = []\n",
    "y_train = []\n",
    "\n",
    "for x in range(prediction_days, len(scaled_data)):\n",
    "    x_train.append(scaled_data[x-prediction_days:x, 0])\n",
    "    y_train.append(scaled_data[x, 0])\n",
    "\n",
    "x_train, y_train = np.array(x_train), np.array(y_train)\n",
    "x_train = np.reshape(x_train, (x_train.shape[0], x_train.shape[1], 1))"
   ]
  },
  {
   "cell_type": "code",
   "execution_count": 34,
   "metadata": {},
   "outputs": [
    {
     "name": "stdout",
     "output_type": "stream",
     "text": [
      "Epoch 1/25\n",
      "3/3 [==============================] - 10s 95ms/step - loss: 0.0762\n",
      "Epoch 2/25\n",
      "3/3 [==============================] - 0s 97ms/step - loss: 0.0459\n",
      "Epoch 3/25\n",
      "3/3 [==============================] - 0s 113ms/step - loss: 0.0521\n",
      "Epoch 4/25\n",
      "3/3 [==============================] - 0s 79ms/step - loss: 0.0444\n",
      "Epoch 5/25\n",
      "3/3 [==============================] - 0s 87ms/step - loss: 0.0406\n",
      "Epoch 6/25\n",
      "3/3 [==============================] - 0s 87ms/step - loss: 0.0442\n",
      "Epoch 7/25\n",
      "3/3 [==============================] - 0s 91ms/step - loss: 0.0429\n",
      "Epoch 8/25\n",
      "3/3 [==============================] - 0s 119ms/step - loss: 0.0417\n",
      "Epoch 9/25\n",
      "3/3 [==============================] - 0s 96ms/step - loss: 0.0389\n",
      "Epoch 10/25\n",
      "3/3 [==============================] - 0s 79ms/step - loss: 0.0388\n",
      "Epoch 11/25\n",
      "3/3 [==============================] - 0s 88ms/step - loss: 0.0403\n",
      "Epoch 12/25\n",
      "3/3 [==============================] - 0s 89ms/step - loss: 0.0398\n",
      "Epoch 13/25\n",
      "3/3 [==============================] - 0s 84ms/step - loss: 0.0403\n",
      "Epoch 14/25\n",
      "3/3 [==============================] - 0s 93ms/step - loss: 0.0397\n",
      "Epoch 15/25\n",
      "3/3 [==============================] - 0s 83ms/step - loss: 0.0388\n",
      "Epoch 16/25\n",
      "3/3 [==============================] - 0s 103ms/step - loss: 0.0391\n",
      "Epoch 17/25\n",
      "3/3 [==============================] - 0s 90ms/step - loss: 0.0372\n",
      "Epoch 18/25\n",
      "3/3 [==============================] - 0s 98ms/step - loss: 0.0374\n",
      "Epoch 19/25\n",
      "3/3 [==============================] - 0s 100ms/step - loss: 0.0376\n",
      "Epoch 20/25\n",
      "3/3 [==============================] - 0s 99ms/step - loss: 0.0351\n",
      "Epoch 21/25\n",
      "3/3 [==============================] - 0s 136ms/step - loss: 0.0377\n",
      "Epoch 22/25\n",
      "3/3 [==============================] - 0s 83ms/step - loss: 0.0345\n",
      "Epoch 23/25\n",
      "3/3 [==============================] - 0s 79ms/step - loss: 0.0352\n",
      "Epoch 24/25\n",
      "3/3 [==============================] - 0s 116ms/step - loss: 0.0356\n",
      "Epoch 25/25\n",
      "3/3 [==============================] - 0s 90ms/step - loss: 0.0318\n"
     ]
    },
    {
     "data": {
      "text/plain": [
       "<keras.callbacks.History at 0x1b1b4117fa0>"
      ]
     },
     "execution_count": 34,
     "metadata": {},
     "output_type": "execute_result"
    }
   ],
   "source": [
    "# Build The Model\n",
    "model = Sequential()\n",
    "\n",
    "model.add(LSTM(units=50, return_sequences=True, input_shape=(x_train.shape[1], 1)))\n",
    "model.add(Dropout(0.2))\n",
    "model.add(LSTM(units=50, return_sequences=True))\n",
    "model.add(Dropout(0.2))\n",
    "model.add(LSTM(units=50))\n",
    "model.add(Dropout(0.2))\n",
    "model.add(Dense(units=1))  # Prediction of the next closing values\n",
    "\n",
    "model.compile(optimizer='adam', loss='mean_squared_error')\n",
    "model.fit(x_train, y_train, epochs=25, batch_size=32)\n"
   ]
  },
  {
   "cell_type": "code",
   "execution_count": 35,
   "metadata": {},
   "outputs": [
    {
     "data": {
      "text/html": [
       "<div>\n",
       "<style scoped>\n",
       "    .dataframe tbody tr th:only-of-type {\n",
       "        vertical-align: middle;\n",
       "    }\n",
       "\n",
       "    .dataframe tbody tr th {\n",
       "        vertical-align: top;\n",
       "    }\n",
       "\n",
       "    .dataframe thead th {\n",
       "        text-align: right;\n",
       "    }\n",
       "</style>\n",
       "<table border=\"1\" class=\"dataframe\">\n",
       "  <thead>\n",
       "    <tr style=\"text-align: right;\">\n",
       "      <th></th>\n",
       "      <th>data</th>\n",
       "      <th>casosNovos</th>\n",
       "    </tr>\n",
       "  </thead>\n",
       "  <tbody>\n",
       "    <tr>\n",
       "      <th>133</th>\n",
       "      <td>2022-09-18 00:00:00</td>\n",
       "      <td>58422</td>\n",
       "    </tr>\n",
       "    <tr>\n",
       "      <th>134</th>\n",
       "      <td>2022-09-25 00:00:00</td>\n",
       "      <td>45173</td>\n",
       "    </tr>\n",
       "    <tr>\n",
       "      <th>135</th>\n",
       "      <td>2022-10-02 00:00:00</td>\n",
       "      <td>47313</td>\n",
       "    </tr>\n",
       "    <tr>\n",
       "      <th>136</th>\n",
       "      <td>2022-10-09 00:00:00</td>\n",
       "      <td>39974</td>\n",
       "    </tr>\n",
       "    <tr>\n",
       "      <th>137</th>\n",
       "      <td>2022-10-16 00:00:00</td>\n",
       "      <td>29551</td>\n",
       "    </tr>\n",
       "    <tr>\n",
       "      <th>138</th>\n",
       "      <td>2022-10-23 00:00:00</td>\n",
       "      <td>34728</td>\n",
       "    </tr>\n",
       "    <tr>\n",
       "      <th>139</th>\n",
       "      <td>2022-10-30 00:00:00</td>\n",
       "      <td>41080</td>\n",
       "    </tr>\n",
       "    <tr>\n",
       "      <th>140</th>\n",
       "      <td>2022-11-06 00:00:00</td>\n",
       "      <td>26584</td>\n",
       "    </tr>\n",
       "    <tr>\n",
       "      <th>141</th>\n",
       "      <td>2022-11-13 00:00:00</td>\n",
       "      <td>61481</td>\n",
       "    </tr>\n",
       "    <tr>\n",
       "      <th>142</th>\n",
       "      <td>2022-11-20 00:00:00</td>\n",
       "      <td>98603</td>\n",
       "    </tr>\n",
       "    <tr>\n",
       "      <th>143</th>\n",
       "      <td>2022-11-27 00:00:00</td>\n",
       "      <td>156667</td>\n",
       "    </tr>\n",
       "    <tr>\n",
       "      <th>144</th>\n",
       "      <td>2022-12-04 00:00:00</td>\n",
       "      <td>200904</td>\n",
       "    </tr>\n",
       "    <tr>\n",
       "      <th>145</th>\n",
       "      <td>2022-12-11 00:00:00</td>\n",
       "      <td>208433</td>\n",
       "    </tr>\n",
       "    <tr>\n",
       "      <th>146</th>\n",
       "      <td>2022-12-18 00:00:00</td>\n",
       "      <td>324440</td>\n",
       "    </tr>\n",
       "    <tr>\n",
       "      <th>147</th>\n",
       "      <td>2022-12-25 00:00:00</td>\n",
       "      <td>222359</td>\n",
       "    </tr>\n",
       "    <tr>\n",
       "      <th>148</th>\n",
       "      <td>2023-01-01 00:00:00</td>\n",
       "      <td>206944</td>\n",
       "    </tr>\n",
       "    <tr>\n",
       "      <th>149</th>\n",
       "      <td>2023-01-08 00:00:00</td>\n",
       "      <td>158769</td>\n",
       "    </tr>\n",
       "    <tr>\n",
       "      <th>150</th>\n",
       "      <td>2023-01-15 00:00:00</td>\n",
       "      <td>138049</td>\n",
       "    </tr>\n",
       "    <tr>\n",
       "      <th>151</th>\n",
       "      <td>2023-01-22 00:00:00</td>\n",
       "      <td>89954</td>\n",
       "    </tr>\n",
       "    <tr>\n",
       "      <th>152</th>\n",
       "      <td>2023-01-29 00:00:00</td>\n",
       "      <td>76208</td>\n",
       "    </tr>\n",
       "    <tr>\n",
       "      <th>153</th>\n",
       "      <td>2023-02-05 00:00:00</td>\n",
       "      <td>74685</td>\n",
       "    </tr>\n",
       "    <tr>\n",
       "      <th>154</th>\n",
       "      <td>2023-02-12 00:00:00</td>\n",
       "      <td>63884</td>\n",
       "    </tr>\n",
       "    <tr>\n",
       "      <th>155</th>\n",
       "      <td>2023-02-19 00:00:00</td>\n",
       "      <td>57027</td>\n",
       "    </tr>\n",
       "    <tr>\n",
       "      <th>156</th>\n",
       "      <td>2023-02-26 00:00:00</td>\n",
       "      <td>34560</td>\n",
       "    </tr>\n",
       "    <tr>\n",
       "      <th>157</th>\n",
       "      <td>2023-03-05 00:00:00</td>\n",
       "      <td>61103</td>\n",
       "    </tr>\n",
       "    <tr>\n",
       "      <th>158</th>\n",
       "      <td>2023-03-12 00:00:00</td>\n",
       "      <td>59994</td>\n",
       "    </tr>\n",
       "    <tr>\n",
       "      <th>159</th>\n",
       "      <td>2023-03-19 00:00:00</td>\n",
       "      <td>59163</td>\n",
       "    </tr>\n",
       "    <tr>\n",
       "      <th>160</th>\n",
       "      <td>2023-03-26 00:00:00</td>\n",
       "      <td>53986</td>\n",
       "    </tr>\n",
       "    <tr>\n",
       "      <th>161</th>\n",
       "      <td>2023-04-02 00:00:00</td>\n",
       "      <td>60591</td>\n",
       "    </tr>\n",
       "    <tr>\n",
       "      <th>162</th>\n",
       "      <td>2023-04-09 00:00:00</td>\n",
       "      <td>38838</td>\n",
       "    </tr>\n",
       "    <tr>\n",
       "      <th>163</th>\n",
       "      <td>2023-04-16 00:00:00</td>\n",
       "      <td>49140</td>\n",
       "    </tr>\n",
       "    <tr>\n",
       "      <th>164</th>\n",
       "      <td>2023-04-23 00:00:00</td>\n",
       "      <td>42186</td>\n",
       "    </tr>\n",
       "  </tbody>\n",
       "</table>\n",
       "</div>"
      ],
      "text/plain": [
       "                    data  casosNovos\n",
       "133  2022-09-18 00:00:00       58422\n",
       "134  2022-09-25 00:00:00       45173\n",
       "135  2022-10-02 00:00:00       47313\n",
       "136  2022-10-09 00:00:00       39974\n",
       "137  2022-10-16 00:00:00       29551\n",
       "138  2022-10-23 00:00:00       34728\n",
       "139  2022-10-30 00:00:00       41080\n",
       "140  2022-11-06 00:00:00       26584\n",
       "141  2022-11-13 00:00:00       61481\n",
       "142  2022-11-20 00:00:00       98603\n",
       "143  2022-11-27 00:00:00      156667\n",
       "144  2022-12-04 00:00:00      200904\n",
       "145  2022-12-11 00:00:00      208433\n",
       "146  2022-12-18 00:00:00      324440\n",
       "147  2022-12-25 00:00:00      222359\n",
       "148  2023-01-01 00:00:00      206944\n",
       "149  2023-01-08 00:00:00      158769\n",
       "150  2023-01-15 00:00:00      138049\n",
       "151  2023-01-22 00:00:00       89954\n",
       "152  2023-01-29 00:00:00       76208\n",
       "153  2023-02-05 00:00:00       74685\n",
       "154  2023-02-12 00:00:00       63884\n",
       "155  2023-02-19 00:00:00       57027\n",
       "156  2023-02-26 00:00:00       34560\n",
       "157  2023-03-05 00:00:00       61103\n",
       "158  2023-03-12 00:00:00       59994\n",
       "159  2023-03-19 00:00:00       59163\n",
       "160  2023-03-26 00:00:00       53986\n",
       "161  2023-04-02 00:00:00       60591\n",
       "162  2023-04-09 00:00:00       38838\n",
       "163  2023-04-16 00:00:00       49140\n",
       "164  2023-04-23 00:00:00       42186"
      ]
     },
     "execution_count": 35,
     "metadata": {},
     "output_type": "execute_result"
    }
   ],
   "source": [
    "# Load Test Data\n",
    "# test_start = dt.datetime(2020, 1, 1)\n",
    "# test_end = dt.datetime.now()\n",
    "\n",
    "# test_data = pdr.data.get_data_yahoo(company, test_start, test_end)\n",
    "test_data = df_casos[test_limit:-1]\n",
    "actual_prices = test_data['casosNovos'].values\n",
    "\n",
    "total_dataset = pd.concat((data['casosNovos'], test_data['casosNovos']), axis=0)\n",
    "\n",
    "model_inputs = total_dataset[len(total_dataset) - len(test_data) - prediction_days:].values\n",
    "model_inputs = model_inputs.reshape(-1, 1)\n",
    "model_inputs = scaler.transform(model_inputs)\n",
    "test_data"
   ]
  },
  {
   "cell_type": "code",
   "execution_count": 36,
   "metadata": {},
   "outputs": [],
   "source": [
    "# Make Predictions on Test Data\n",
    "x_test = []\n",
    "\n",
    "for x in range(prediction_days, len(model_inputs)):\n",
    "    x_test.append(model_inputs[x-prediction_days:x, 0])\n",
    "\n",
    "x_test = np.array(x_test)\n",
    "x_test = np.reshape(x_test, (x_test.shape[0], x_test.shape[1], 1))\n",
    "\n",
    "predicted_prices = model.predict(x_test)\n",
    "predicted_prices = scaler.inverse_transform(predicted_prices)"
   ]
  },
  {
   "cell_type": "code",
   "execution_count": 37,
   "metadata": {},
   "outputs": [
    {
     "data": {
      "image/png": "[encoded data removed]",
      "text/plain": [
       "<Figure size 640x480 with 1 Axes>"
      ]
     },
     "metadata": {},
     "output_type": "display_data"
    }
   ],
   "source": [
    "# Plot The Test Predictions\n",
    "plt.plot(actual_prices, color='black', label=f'Actual {company} Price')\n",
    "plt.plot(predicted_prices, color='green', label=f'Predicted {company} Price')\n",
    "plt.title(f'{company} Share Price')\n",
    "plt.xlabel('Time')\n",
    "plt.ylabel(f'{company} Share Price')\n",
    "plt.legend()\n",
    "plt.show()"
   ]
  },
  {
   "cell_type": "code",
   "execution_count": 37,
   "metadata": {},
   "outputs": [
    {
     "data": {
      "text/plain": [
       "904"
      ]
     },
     "execution_count": 37,
     "metadata": {},
     "output_type": "execute_result"
    }
   ],
   "source": []
  },
  {
   "cell_type": "code",
   "execution_count": 38,
   "metadata": {},
   "outputs": [
    {
     "data": {
      "text/plain": [
       "(92, 1)"
      ]
     },
     "execution_count": 38,
     "metadata": {},
     "output_type": "execute_result"
    }
   ],
   "source": [
    "len(model_inputs)\n",
    "model_inputs.shape"
   ]
  },
  {
   "cell_type": "code",
   "execution_count": 40,
   "metadata": {},
   "outputs": [
    {
     "data": {
      "text/plain": [
       "-60"
      ]
     },
     "execution_count": 40,
     "metadata": {},
     "output_type": "execute_result"
    }
   ],
   "source": [
    "(len(model_inputs) - prediction_days) - len(model_inputs+ 1)"
   ]
  },
  {
   "cell_type": "code",
   "execution_count": 41,
   "metadata": {},
   "outputs": [
    {
     "name": "stdout",
     "output_type": "stream",
     "text": [
      "Prediction: [[369921.8]]\n"
     ]
    }
   ],
   "source": [
    "# Predict Next Day\n",
    "real_data = [model_inputs[len(model_inputs) - prediction_days:len(model_inputs+ 1), 0]]\n",
    "real_data = np.array(real_data)\n",
    "real_data = np.reshape(real_data, (real_data.shape[0], real_data.shape[1], 1))\n",
    "\n",
    "prediction = model.predict(real_data)\n",
    "prediction = scaler.inverse_transform(prediction)\n",
    "print(f'Prediction: {prediction}')"
   ]
  },
  {
   "cell_type": "code",
   "execution_count": 42,
   "metadata": {},
   "outputs": [
    {
     "data": {
      "text/plain": [
       "(1, 60, 1)"
      ]
     },
     "execution_count": 42,
     "metadata": {},
     "output_type": "execute_result"
    }
   ],
   "source": [
    "real_data.shape"
   ]
  }
 ],
 "metadata": {
  "kernelspec": {
   "display_name": "base",
   "language": "python",
   "name": "python3"
  },
  "language_info": {
   "codemirror_mode": {
    "name": "ipython",
    "version": 3
   },
   "file_extension": ".py",
   "mimetype": "text/x-python",
   "name": "python",
   "nbconvert_exporter": "python",
   "pygments_lexer": "ipython3",
   "version": "3.9.13"
  },
  "orig_nbformat": 4
 },
 "nbformat": 4,
 "nbformat_minor": 2
}
