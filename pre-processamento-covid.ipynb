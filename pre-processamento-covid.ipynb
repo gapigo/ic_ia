{
 "cells": [
  {
   "cell_type": "code",
   "execution_count": 12,
   "metadata": {},
   "outputs": [],
   "source": [
    "import pandas as pd\n",
    "from datetime import datetime, date, timedelta\n",
    "import sqlite3\n",
    "\n",
    "# Create your connection.\n",
    "cnx = sqlite3.connect('db.sqlite')"
   ]
  },
  {
   "cell_type": "code",
   "execution_count": 1,
   "metadata": {},
   "outputs": [],
   "source": [
    "arquivos = (\n",
    "    'HIST_PAINEL_COVIDBR_2020_Parte1.csv',\n",
    "    'HIST_PAINEL_COVIDBR_2020_Parte2.csv',\n",
    "    'HIST_PAINEL_COVIDBR_2021_Parte1.csv',\n",
    "    'HIST_PAINEL_COVIDBR_2021_Parte2.csv',\n",
    "    'HIST_PAINEL_COVIDBR_2022_Parte1.csv',\n",
    "    'HIST_PAINEL_COVIDBR_2022_Parte2.csv',\n",
    "    'HIST_PAINEL_COVIDBR_2023_Parte1.csv',\n",
    ")\n",
    "df_covid = pd.DataFrame({})\n",
    "for i, df_lido in enumerate([pd.read_csv(f'./Bases/COVID/{arquivo}', sep=';') for arquivo in arquivos]):\n",
    "    if i == 0: df_covid = df_lido\n",
    "    else: df_covid = pd.concat([df_covid, df_lido], ignore_index=True)\n"
   ]
  },
  {
   "cell_type": "code",
   "execution_count": 13,
   "metadata": {},
   "outputs": [],
   "source": [
    "\n",
    "df_casos = df_covid[df_covid['regiao'] == 'Brasil'].sort_values('data')[['data', 'casosNovos']]\n",
    "df_casos['data'] = df_casos['data'].apply(lambda x: datetime.strptime(x, '%Y-%m-%d'))"
   ]
  },
  {
   "cell_type": "code",
   "execution_count": 17,
   "metadata": {},
   "outputs": [
    {
     "data": {
      "text/html": [
       "<div>\n",
       "<style scoped>\n",
       "    .dataframe tbody tr th:only-of-type {\n",
       "        vertical-align: middle;\n",
       "    }\n",
       "\n",
       "    .dataframe tbody tr th {\n",
       "        vertical-align: top;\n",
       "    }\n",
       "\n",
       "    .dataframe thead th {\n",
       "        text-align: right;\n",
       "    }\n",
       "</style>\n",
       "<table border=\"1\" class=\"dataframe\">\n",
       "  <thead>\n",
       "    <tr style=\"text-align: right;\">\n",
       "      <th></th>\n",
       "      <th>casosNovos</th>\n",
       "    </tr>\n",
       "    <tr>\n",
       "      <th>data</th>\n",
       "      <th></th>\n",
       "    </tr>\n",
       "  </thead>\n",
       "  <tbody>\n",
       "    <tr>\n",
       "      <th>2020-03-01</th>\n",
       "      <td>2</td>\n",
       "    </tr>\n",
       "    <tr>\n",
       "      <th>2020-03-08</th>\n",
       "      <td>23</td>\n",
       "    </tr>\n",
       "    <tr>\n",
       "      <th>2020-03-15</th>\n",
       "      <td>175</td>\n",
       "    </tr>\n",
       "    <tr>\n",
       "      <th>2020-03-22</th>\n",
       "      <td>1346</td>\n",
       "    </tr>\n",
       "    <tr>\n",
       "      <th>2020-03-29</th>\n",
       "      <td>2710</td>\n",
       "    </tr>\n",
       "    <tr>\n",
       "      <th>...</th>\n",
       "      <td>...</td>\n",
       "    </tr>\n",
       "    <tr>\n",
       "      <th>2023-04-02</th>\n",
       "      <td>60591</td>\n",
       "    </tr>\n",
       "    <tr>\n",
       "      <th>2023-04-09</th>\n",
       "      <td>38838</td>\n",
       "    </tr>\n",
       "    <tr>\n",
       "      <th>2023-04-16</th>\n",
       "      <td>49140</td>\n",
       "    </tr>\n",
       "    <tr>\n",
       "      <th>2023-04-23</th>\n",
       "      <td>42186</td>\n",
       "    </tr>\n",
       "    <tr>\n",
       "      <th>2023-04-30</th>\n",
       "      <td>0</td>\n",
       "    </tr>\n",
       "  </tbody>\n",
       "</table>\n",
       "<p>166 rows × 1 columns</p>\n",
       "</div>"
      ],
      "text/plain": [
       "            casosNovos\n",
       "data                  \n",
       "2020-03-01           2\n",
       "2020-03-08          23\n",
       "2020-03-15         175\n",
       "2020-03-22        1346\n",
       "2020-03-29        2710\n",
       "...                ...\n",
       "2023-04-02       60591\n",
       "2023-04-09       38838\n",
       "2023-04-16       49140\n",
       "2023-04-23       42186\n",
       "2023-04-30           0\n",
       "\n",
       "[166 rows x 1 columns]"
      ]
     },
     "execution_count": 17,
     "metadata": {},
     "output_type": "execute_result"
    }
   ],
   "source": [
    "df_casos.groupby(pd.Grouper(key='data', freq='W')).sum().to_sql(name='casos_covid_semanal', con=cnx)"
   ]
  },
  {
   "cell_type": "code",
   "execution_count": 2,
   "metadata": {},
   "outputs": [],
   "source": []
  },
  {
   "cell_type": "code",
   "execution_count": 5,
   "metadata": {},
   "outputs": [
    {
     "data": {
      "text/plain": [
       "6327862"
      ]
     },
     "execution_count": 5,
     "metadata": {},
     "output_type": "execute_result"
    }
   ],
   "source": [
    "df_covid.to_sql(name='casos_covid_raw', con=cnx)"
   ]
  }
 ],
 "metadata": {
  "kernelspec": {
   "display_name": "base",
   "language": "python",
   "name": "python3"
  },
  "language_info": {
   "codemirror_mode": {
    "name": "ipython",
    "version": 3
   },
   "file_extension": ".py",
   "mimetype": "text/x-python",
   "name": "python",
   "nbconvert_exporter": "python",
   "pygments_lexer": "ipython3",
   "version": "3.9.13"
  },
  "orig_nbformat": 4
 },
 "nbformat": 4,
 "nbformat_minor": 2
}
